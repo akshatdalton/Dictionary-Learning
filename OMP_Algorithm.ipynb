{
  "nbformat": 4,
  "nbformat_minor": 0,
  "metadata": {
    "colab": {
      "name": "OMP Algorithm.ipynb",
      "provenance": [],
      "authorship_tag": "ABX9TyOBZ4D8cjHyiZJN0tFUtTp2",
      "include_colab_link": true
    },
    "kernelspec": {
      "name": "python3",
      "display_name": "Python 3"
    },
    "language_info": {
      "name": "python"
    }
  },
  "cells": [
    {
      "cell_type": "markdown",
      "metadata": {
        "id": "view-in-github",
        "colab_type": "text"
      },
      "source": [
        "<a href=\"https://colab.research.google.com/github/akshatdalton/Dictionary-Learning/blob/main/OMP_Algorithm.ipynb\" target=\"_parent\"><img src=\"https://colab.research.google.com/assets/colab-badge.svg\" alt=\"Open In Colab\"/></a>"
      ]
    },
    {
      "cell_type": "code",
      "metadata": {
        "id": "zF6K7t-8eguy"
      },
      "source": [
        "import numpy as np\n",
        "\n",
        "def find_sparse_representation(phi, y):\n",
        "    iteration = 0\n",
        "    max_iteration = phi.shape[1]\n",
        "    epsilon = 1.0e-5\n",
        "\n",
        "    A = np.empty((phi.shape[0], 0))\n",
        "    A_index = np.array([], dtype=\"int\")\n",
        "    sparse = np.zeros(phi.shape[1])\n",
        "    x = np.array([])\n",
        "    residue = y.copy()\n",
        "\n",
        "    while iteration < max_iteration and np.linalg.norm(residue, ord=1) > epsilon:\n",
        "        projection = np.absolute(phi.T @ residue)\n",
        "        argmax_index = np.argmax(projection)\n",
        "\n",
        "        insert_index = np.searchsorted(A_index, argmax_index)\n",
        "\n",
        "        A_index = np.insert(A_index, insert_index, argmax_index, axis=0)\n",
        "        A = np.insert(A, insert_index, phi.T[argmax_index], axis=1)\n",
        "\n",
        "        x = np.linalg.pinv(A) @ y\n",
        "        residue = y - (A @ x)\n",
        "\n",
        "        iteration += 1\n",
        "\n",
        "    for idx, x_val in enumerate(x):\n",
        "        sparse[A_index[idx]] = x_val\n",
        "    \n",
        "    return sparse"
      ],
      "execution_count": 38,
      "outputs": []
    },
    {
      "cell_type": "code",
      "metadata": {
        "colab": {
          "base_uri": "https://localhost:8080/"
        },
        "id": "IAFYLU_j2cKD",
        "outputId": "d29fce18-4e94-4518-fb5b-4ce585d41047"
      },
      "source": [
        "phi = np.array([[1, 0, 1, 0, 0, 1],\n",
        "                [0, 1, 1, 1, 0, 0],\n",
        "                [1, 0, 0, 1, 1, 0],\n",
        "                [0, 1, 0, 0, 1, 1]])\n",
        "\n",
        "y = np.array([0, -10, -100, 0])\n",
        "\n",
        "sparse = find_sparse_representation(phi, y)\n",
        "print(sparse)\n",
        "\n",
        "print(phi @ sparse)"
      ],
      "execution_count": 49,
      "outputs": [
        {
          "output_type": "stream",
          "name": "stdout",
          "text": [
            "[-45.   0.  45. -55.   0.   0.]\n",
            "[ 1.42108547e-14 -1.00000000e+01 -1.00000000e+02  0.00000000e+00]\n"
          ]
        }
      ]
    }
  ]
}